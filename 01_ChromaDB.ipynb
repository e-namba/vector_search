{
 "cells": [
  {
   "cell_type": "code",
   "execution_count": 1,
   "metadata": {},
   "outputs": [],
   "source": [
    "import chromadb\n",
    "import openai\n",
    "from dotenv import load_dotenv\n",
    "load_dotenv()\n",
    "import os\n",
    "import pandas as pd\n",
    "import datetime as dt\n",
    "\n",
    "API_KEY = os.getenv('OAI_API_KEY')\n"
   ]
  },
  {
   "cell_type": "code",
   "execution_count": 2,
   "metadata": {},
   "outputs": [
    {
     "name": "stderr",
     "output_type": "stream",
     "text": [
      "/var/folders/5s/lns070lx7x3_4_7qbhgzsj0w0000gn/T/ipykernel_15090/2698770361.py:1: DtypeWarning: Columns (7,14,16,17,18,22,24,26,28,29) have mixed types. Specify dtype option on import or set low_memory=False.\n",
      "  df = pd.read_csv('./data/saigai_data.csv')\n"
     ]
    }
   ],
   "source": [
    "df = pd.read_csv('./data/saigai_data.csv')\n",
    "df = df.astype({'年': 'Int64', '月': 'Int64', '業種（中分類）': 'Int64', '業種（小分類）': 'Int64', '事故の型': 'Int64', '起因物（大分類）.2': 'Int64', '起因物（中分類）.2': 'Int64', '起因物（小分類）.2': 'Int64'})\n",
    "df_new = df[['年号','年','月','災害状況','業種（大分類）.1']]"
   ]
  },
  {
   "cell_type": "code",
   "execution_count": 3,
   "metadata": {},
   "outputs": [],
   "source": [
    "client = chromadb.Client()"
   ]
  },
  {
   "cell_type": "code",
   "execution_count": 4,
   "metadata": {},
   "outputs": [],
   "source": [
    "from chromadb.utils import embedding_functions\n",
    "openai_ef = embedding_functions.OpenAIEmbeddingFunction(\n",
    "                api_key=API_KEY,\n",
    "                model_name=\"text-embedding-ada-002\"\n",
    "            )\n",
    "collection = client.create_collection(name=\"disaster_collection\",embedding_function=openai_ef)\n"
   ]
  },
  {
   "cell_type": "code",
   "execution_count": 12,
   "metadata": {},
   "outputs": [],
   "source": [
    "df_dic = df_new[:1000].to_dict()\n",
    "docs = list(df_dic['災害状況'].values())\n",
    "# df_dicから'災害状況'キーを除いた辞書を取り出すコード\n",
    "original_data = {key: value for key, value in df_dic.items() if key != '災害状況'}\n",
    "metadata = [\n",
    "    {key: value[index] for key, value in original_data.items()}\n",
    "    for index in range(len(next(iter(original_data.values()))))\n",
    "]\n",
    "\n",
    "ids = [\"id{}\".format(i) for i in df_dic['災害状況'].keys()]\n",
    "\n"
   ]
  },
  {
   "cell_type": "code",
   "execution_count": 13,
   "metadata": {},
   "outputs": [],
   "source": [
    "collection.add(\n",
    "    documents=docs,\n",
    "    metadatas=metadata,\n",
    "    ids=ids\n",
    ")"
   ]
  },
  {
   "cell_type": "code",
   "execution_count": 14,
   "metadata": {},
   "outputs": [
    {
     "data": {
      "text/plain": [
       "{'ids': [['id128',\n",
       "   'id432',\n",
       "   'id436',\n",
       "   'id615',\n",
       "   'id191',\n",
       "   'id116',\n",
       "   'id286',\n",
       "   'id611',\n",
       "   'id6',\n",
       "   'id56']],\n",
       " 'distances': [[0.3918856382369995,\n",
       "   0.3959372937679291,\n",
       "   0.39612558484077454,\n",
       "   0.3994092345237732,\n",
       "   0.4008343815803528,\n",
       "   0.40150177478790283,\n",
       "   0.40164804458618164,\n",
       "   0.40415099263191223,\n",
       "   0.4056999683380127,\n",
       "   0.4065854847431183]],\n",
       " 'metadatas': [[{'年': 25, '年号': '平成', '月': 1, '業種（大分類）.1': '商業'},\n",
       "   {'年': 25, '年号': '平成', '月': 1, '業種（大分類）.1': '建設業'},\n",
       "   {'年': 25, '年号': '平成', '月': 1, '業種（大分類）.1': '建設業'},\n",
       "   {'年': 25, '年号': '平成', '月': 1, '業種（大分類）.1': '保健・衛生業'},\n",
       "   {'年': 25, '年号': '平成', '月': 1, '業種（大分類）.1': '建設業'},\n",
       "   {'年': 25, '年号': '平成', '月': 1, '業種（大分類）.1': '運輸交通業'},\n",
       "   {'年': 25, '年号': '平成', '月': 1, '業種（大分類）.1': '商業'},\n",
       "   {'年': 25, '年号': '平成', '月': 1, '業種（大分類）.1': '建設業'},\n",
       "   {'年': 25, '年号': '平成', '月': 1, '業種（大分類）.1': '保健・衛生業'},\n",
       "   {'年': 25, '年号': '平成', '月': 1, '業種（大分類）.1': '運輸交通業'}]],\n",
       " 'embeddings': None,\n",
       " 'documents': [['コンテナより荷卸しした製材をリフトにより倉庫内に移動する際、被災者はリフトの誘導をしていたところ、凍結路面に足を滑らせ、転倒し、腕を路面へ強打した。',\n",
       "   '発電所構内にて、免震重要棟へ移動する際、歩行中、積雪により滑り、転倒した。',\n",
       "   '家屋解体作業中、未解体の土壁の前にて、残材整理をしていたところ、突風で土壁が倒れ、被災者の背に当たり、負傷した。',\n",
       "   '入居者が興奮し、施設内に連れ戻そうとした際、被災者が振り払われ、後ろの垣根に飛ばされ、首と肩を負傷した。',\n",
       "   '倉庫の屋根の雪降ろしをするため、屋根の周りで準備作業をしようとした際、屋根に積もった雪が落ち、倉庫の屋根から５ｍ離れていた被災者に雪が被さった。',\n",
       "   '客の庭先へ停車し、コンテナ側面の扉を開けた際、扉が強風にあおられ、扉を抑えたところ、地面が凍結していた為、扉ごと引きずられ、バランスを崩し、転倒し、足首を捻り、脱臼骨折した。',\n",
       "   '組合員が住んでいるアパートに荷物を届けようと徒歩で向かい、荷物を手に持った状態で階段を昇ろうとした際、凍結した段付近にて、足が滑り、転倒し、頭部を打ちつけた。',\n",
       "   '団地建設場にて、足場建材鉄製布板、古い資材を使っていた為、溶接の一部が切れ、切れた一部が沈み、被災者が荷を運び歩いていたところ、体勢を崩し、負傷した。',\n",
       "   '施設の玄関ポーチの屋根にて、雪下ろしを終え、梯子で降りようと足をかけた際、靴底に着いた雪で滑り、梯子から落ち、転倒した。',\n",
       "   '被災者が、トレーラーより飼料を下ろそうとトレーラーによじ登ったところ、足を滑らせ、落下した。']],\n",
       " 'uris': None,\n",
       " 'data': None}"
      ]
     },
     "execution_count": 14,
     "metadata": {},
     "output_type": "execute_result"
    }
   ],
   "source": [
    "results = collection.query(\n",
    "    query_texts=[\"季節性災害\"],\n",
    "    n_results=10\n",
    ")\n",
    "results"
   ]
  },
  {
   "cell_type": "code",
   "execution_count": null,
   "metadata": {},
   "outputs": [],
   "source": []
  }
 ],
 "metadata": {
  "kernelspec": {
   "display_name": "chromadb",
   "language": "python",
   "name": "python3"
  },
  "language_info": {
   "codemirror_mode": {
    "name": "ipython",
    "version": 3
   },
   "file_extension": ".py",
   "mimetype": "text/x-python",
   "name": "python",
   "nbconvert_exporter": "python",
   "pygments_lexer": "ipython3",
   "version": "3.9.18"
  }
 },
 "nbformat": 4,
 "nbformat_minor": 2
}
